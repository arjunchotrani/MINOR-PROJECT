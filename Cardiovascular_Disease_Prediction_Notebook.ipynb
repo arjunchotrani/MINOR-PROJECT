# ---------------------------------------
# 1. Import Libraries
# ---------------------------------------
import pandas as pd
import numpy as np
import matplotlib.pyplot as plt
import seaborn as sns
from sklearn.model_selection import train_test_split
from sklearn.preprocessing import StandardScaler
from sklearn.metrics import accuracy_score, classification_report
from sklearn.svm import SVC
from sklearn.neighbors import KNeighborsClassifier
from sklearn.tree import DecisionTreeClassifier
from sklearn.linear_model import LogisticRegression
from sklearn.ensemble import RandomForestClassifier

# ---------------------------------------
# 2. Load Dataset
# ---------------------------------------
df = pd.read_csv("cardio_train.csv", sep=';')

# ---------------------------------------
# 3. Data Preprocessing
# ---------------------------------------
df.drop(columns=['id'], inplace=True)
df['age'] = (df['age'] / 365).astype(int)

# Remove outliers
df = df[(df['ap_hi'] > 50) & (df['ap_hi'] < 250)]
df = df[(df['ap_lo'] > 30) & (df['ap_lo'] < 200)]
df = df[(df['height'] > 100) & (df['height'] < 250)]
df = df[(df['weight'] > 30) & (df['weight'] < 200)]

# ---------------------------------------
# 4. Data Visualization
# ---------------------------------------
plt.figure(figsize=(12, 6))
sns.countplot(data=df, x='age', hue='cardio')
plt.title('Age vs Cardiovascular Disease')
plt.xticks(rotation=90)
plt.show()

plt.figure(figsize=(10, 5))
sns.heatmap(df.corr(), annot=True, fmt=".2f", cmap="coolwarm")
plt.title("Correlation Matrix")
plt.show()

# ---------------------------------------
# 5. Prepare Data for Modeling
# ---------------------------------------
X = df.drop('cardio', axis=1)
y = df['cardio']

# Scale features
scaler = StandardScaler()
X_scaled = scaler.fit_transform(X)

# Split data
X_train, X_test, y_train, y_test = train_test_split(X_scaled, y, test_size=0.2, random_state=42)

# ---------------------------------------
# 6. Train ML Models
# ---------------------------------------
models = {
    "Logistic Regression": LogisticRegression(),
    "Decision Tree": DecisionTreeClassifier(),
    "K-Nearest Neighbors": KNeighborsClassifier(),
    "Support Vector Machine": SVC(),
    "Random Forest": RandomForestClassifier()
}

for name, model in models.items():
    model.fit(X_train, y_train)
    preds = model.predict(X_test)
    acc = accuracy_score(y_test, preds)
    print(f"{name} Accuracy: {acc:.4f}")

# ---------------------------------------
# 7. Final Model Selection (Random Forest)
# ---------------------------------------
final_model = RandomForestClassifier()
final_model.fit(X_train, y_train)
final_preds = final_model.predict(X_test)

print("\nFinal Model: Random Forest Classifier")
print("Accuracy:", accuracy_score(y_test, final_preds))
print("\nClassification Report:\n", classification_report(y_test, final_preds))
